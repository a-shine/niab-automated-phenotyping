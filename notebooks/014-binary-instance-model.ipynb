{
 "cells": [
  {
   "cell_type": "code",
   "execution_count": null,
   "metadata": {},
   "outputs": [],
   "source": [
    "import os\n",
    "import random\n",
    "import matplotlib.pyplot as plt\n",
    "from torch.utils.data import random_split\n",
    "import segmentation_models_pytorch as smp\n",
    "import torch\n",
    "\n",
    "from utils.dl.niab import SegmentationDataset, IMG_TRANSFORMS, MASK_TRANSFORMS\n",
    "\n",
    "from torch.utils.data import DataLoader"
   ]
  },
  {
   "cell_type": "code",
   "execution_count": null,
   "metadata": {},
   "outputs": [],
   "source": [
    "niab_dataset = SegmentationDataset(\n",
    "    \"../datasets/niab/EXP01/Top_Images/Masked_Dataset/imgs\", \n",
    "    \"../datasets/niab/EXP01/Top_Images/Masked_Dataset/masks\",\n",
    "    img_transform=IMG_TRANSFORMS, mask_transform=MASK_TRANSFORMS\n",
    ")\n",
    "\n",
    "# Could change the dimention to be 512 (512/16=32 (given that 2^5=32 and resnet34 has 5 layers of downsampling by a factor of 2))\n",
    "\n",
    "random_index = random.randint(0, len(niab_dataset) - 1)\n",
    "image, mask = niab_dataset[random_index]\n",
    "\n",
    "# Plot the image\n",
    "plt.subplot(1, 2, 1)\n",
    "plt.imshow(image.permute(1, 2, 0))  # permute to change the order of the channels so that it can be displayed correctly\n",
    "plt.axis('off')\n",
    "\n",
    "# Plot mask\n",
    "plt.subplot(1, 2, 2)\n",
    "plt.imshow(mask.permute(1, 2, 0), cmap='gray')\n",
    "plt.axis('off')\n",
    "\n",
    "print(f\"Size of dataset: {len(niab_dataset)}\")\n",
    "print(f\"Image shape: {image[1].shape}\")\n",
    "\n",
    "# TODO: Be sure that the segmentation masks are binary and not RGB\n",
    "# I am pretty sure at the moment that the masks are RGB as they are a jpeg image and not a png image - I need to convert them to greyscale\n",
    "print(f\"Unique values in mask: {torch.unique(mask)}\")\n",
    "\n",
    "plt.show()"
   ]
  }
 ],
 "metadata": {
  "language_info": {
   "name": "python"
  }
 },
 "nbformat": 4,
 "nbformat_minor": 2
}
